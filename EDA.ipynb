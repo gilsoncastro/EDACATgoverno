{
 "cells": [
  {
   "cell_type": "markdown",
   "metadata": {},
   "source": [
    "## Análise Exploratória de Dados : Base de Comunicação de Acidente de trabalho (CAT) de janeiro a março de 2020\n",
    "by [Gilson Castro](https://github.com/gilsoncastro)\n"
   ]
  },
  {
   "cell_type": "markdown",
   "metadata": {},
   "source": [
    "### Descrição do problema \n",
    "\n",
    "Um laborátório de inovação em [segurança ocupacional](https://pt.wikipedia.org/wiki/Seguran%C3%A7a_e_sa%C3%BAde_ocupacionais) de uma grande empresa pretende fazer um estudo sobre os acidentes de trabalho no Brasil  tendo como objetivo desenvolver serviços e produtos para amenizar o problema . Para realizar a análise , contratou um **analista de dados** ( especialista em [economia do trabalho](https://pt.wikipedia.org/wiki/Economia_do_trabalho) , este mesmo decidiu realizar uma análise explorátória de dados com o objetivo de obter alguns insights , testar algumas hipóteses em torno da base de dados fornecida pelo laborátorio.\n",
    " \n",
    "O analista de dados em uma reunião com o time de pesquisadores elaborou 8 perguntas para responder através da **análise explorária**:\n",
    "\n",
    "1) Qual a quantidade de pessoas que recorreu o CAT por sexo ?\n",
    "\n",
    "2) Qual a quantidade de responsável ( **empregador, sindicato, médico, segurado, autoridade pública**) pela emissão da CAT ?\n",
    "\n",
    "3) Quais são as 5 maiores partes do corpo atingida ?\n",
    "\n",
    "4) Qual o tipo de acidente mais comum ?\n",
    "\n",
    "5) Quais as 5 maiores classificação Brasileira de Ocupações apresenta um número elevado de acidentes ?\n",
    "\n",
    "6) Quais lesões são mais frequentes ?\n",
    "\n",
    "8) Onde estão os empregadores ?\n",
    "\n",
    "### Base de dados :\n",
    "\n",
    " O [Conjunto de dados](https://dadosabertos.dataprev.gov.br/dataset/comunicacao-de-acidente-de-trabalho-cat) escolhido é advindo de um serviço chamado Registros [Comunicação de Acidente de Trabalho - CAT](https://www.gov.br/pt-br/servicos/registrar-comunicacao-de-acidente-de-trabalho-cat) , nesse sistema o trabalhador , empregador registra uma acidente de trabalho ou trajeto . Esse serviço tem uma certa facilidade para quem sofre um acidente pois não precisa comparecer na agência do INSS.\n",
    " \n",
    " [Leia mais aqui](https://conect.online/blog/entenda-o-que-e-cat-e-por-que-ele-e-importante/)\n"
   ]
  },
  {
   "cell_type": "code",
   "execution_count": 87,
   "metadata": {},
   "outputs": [],
   "source": [
    "#importando bibliotecas\n",
    "import numpy as np\n",
    "import pandas as pd\n",
    "from os import path\n",
    "import matplotlib.pyplot as plt\n",
    "\n",
    "%matplotlib inline"
   ]
  },
  {
   "cell_type": "code",
   "execution_count": 2,
   "metadata": {},
   "outputs": [],
   "source": [
    "#carregando os dados\n",
    "df=pd.read_csv('catt2020.csv',sep=';',encoding='latin1')"
   ]
  },
  {
   "cell_type": "code",
   "execution_count": 3,
   "metadata": {},
   "outputs": [
    {
     "data": {
      "text/html": [
       "<div>\n",
       "<style scoped>\n",
       "    .dataframe tbody tr th:only-of-type {\n",
       "        vertical-align: middle;\n",
       "    }\n",
       "\n",
       "    .dataframe tbody tr th {\n",
       "        vertical-align: top;\n",
       "    }\n",
       "\n",
       "    .dataframe thead th {\n",
       "        text-align: right;\n",
       "    }\n",
       "</style>\n",
       "<table border=\"1\" class=\"dataframe\">\n",
       "  <thead>\n",
       "    <tr style=\"text-align: right;\">\n",
       "      <th></th>\n",
       "      <th>Agente  Causador  Acidente</th>\n",
       "      <th>Data Acidente</th>\n",
       "      <th>CBO</th>\n",
       "      <th>CBO.1</th>\n",
       "      <th>CID-10</th>\n",
       "      <th>CID-10.1</th>\n",
       "      <th>CNAE2.0 Empregador</th>\n",
       "      <th>CNAE2.0 Empregador.1</th>\n",
       "      <th>Emitente CAT</th>\n",
       "      <th>Espécie do benefício</th>\n",
       "      <th>...</th>\n",
       "      <th>Parte Corpo Atingida</th>\n",
       "      <th>Sexo</th>\n",
       "      <th>Tipo do Acidente</th>\n",
       "      <th>UF  Munic.  Acidente</th>\n",
       "      <th>UF Munic. Empregador</th>\n",
       "      <th>Data  Afastamento</th>\n",
       "      <th>Data Despacho Benefício</th>\n",
       "      <th>Data Acidente.1</th>\n",
       "      <th>Data Nascimento</th>\n",
       "      <th>Data Emissão CAT</th>\n",
       "    </tr>\n",
       "  </thead>\n",
       "  <tbody>\n",
       "    <tr>\n",
       "      <th>0</th>\n",
       "      <td>Vidraria, Fibra de V</td>\n",
       "      <td>2020/01</td>\n",
       "      <td>322230</td>\n",
       "      <td>322230-Auxiliar de E</td>\n",
       "      <td>S610</td>\n",
       "      <td>S61.0 Ferim de Dedos</td>\n",
       "      <td>9491</td>\n",
       "      <td>Atividades de Organi</td>\n",
       "      <td>Empregador</td>\n",
       "      <td>Pa</td>\n",
       "      <td>...</td>\n",
       "      <td>Dedo</td>\n",
       "      <td>Feminino</td>\n",
       "      <td>Típico</td>\n",
       "      <td>Maranhão</td>\n",
       "      <td>São Paulo</td>\n",
       "      <td>0000/00</td>\n",
       "      <td>0000/00</td>\n",
       "      <td>01/01/2020</td>\n",
       "      <td>07/09/1977</td>\n",
       "      <td>02/01/2020</td>\n",
       "    </tr>\n",
       "    <tr>\n",
       "      <th>1</th>\n",
       "      <td>Agente Infeccioso ou</td>\n",
       "      <td>2020/01</td>\n",
       "      <td>322205</td>\n",
       "      <td>322205-Tec. de Enfer</td>\n",
       "      <td>Z209</td>\n",
       "      <td>Z20.9 Contato Exposi</td>\n",
       "      <td>8610</td>\n",
       "      <td>Atividades de Atendi</td>\n",
       "      <td>Empregador</td>\n",
       "      <td>Pa</td>\n",
       "      <td>...</td>\n",
       "      <td>Dedo</td>\n",
       "      <td>Feminino</td>\n",
       "      <td>Típico</td>\n",
       "      <td></td>\n",
       "      <td>Ceará</td>\n",
       "      <td>0000/00</td>\n",
       "      <td>0000/00</td>\n",
       "      <td>02/01/2020</td>\n",
       "      <td>27/11/1987</td>\n",
       "      <td>02/01/2020</td>\n",
       "    </tr>\n",
       "    <tr>\n",
       "      <th>2</th>\n",
       "      <td></td>\n",
       "      <td>2020/01</td>\n",
       "      <td>322205</td>\n",
       "      <td>322205-Tec. de Enfer</td>\n",
       "      <td>Y289</td>\n",
       "      <td>Y28.9 Local Ne</td>\n",
       "      <td>8610</td>\n",
       "      <td>Atividades de Atendi</td>\n",
       "      <td>Empregador</td>\n",
       "      <td>Pa</td>\n",
       "      <td>...</td>\n",
       "      <td>Dedo</td>\n",
       "      <td>Masculino</td>\n",
       "      <td>Típico</td>\n",
       "      <td>Maranhão</td>\n",
       "      <td>São Paulo</td>\n",
       "      <td>0000/00</td>\n",
       "      <td>0000/00</td>\n",
       "      <td>01/01/2020</td>\n",
       "      <td>03/01/1983</td>\n",
       "      <td>02/01/2020</td>\n",
       "    </tr>\n",
       "    <tr>\n",
       "      <th>3</th>\n",
       "      <td>Motor, Bomba, Turbin</td>\n",
       "      <td>2020/01</td>\n",
       "      <td>314410</td>\n",
       "      <td>314410-Tec. em Manut</td>\n",
       "      <td>S610</td>\n",
       "      <td>S61.0 Ferim de Dedos</td>\n",
       "      <td>1012</td>\n",
       "      <td>Abate de Suinos, Ave</td>\n",
       "      <td>Empregador</td>\n",
       "      <td>Pa</td>\n",
       "      <td>...</td>\n",
       "      <td>Dedo</td>\n",
       "      <td>Masculino</td>\n",
       "      <td>Típico</td>\n",
       "      <td></td>\n",
       "      <td>Santa Catarina</td>\n",
       "      <td>0000/00</td>\n",
       "      <td>0000/00</td>\n",
       "      <td>02/01/2020</td>\n",
       "      <td>08/10/1988</td>\n",
       "      <td>02/01/2020</td>\n",
       "    </tr>\n",
       "    <tr>\n",
       "      <th>4</th>\n",
       "      <td>Ferramenta Portatil</td>\n",
       "      <td>2020/01</td>\n",
       "      <td>724315</td>\n",
       "      <td>724315-Soldador</td>\n",
       "      <td>S610</td>\n",
       "      <td>S61.0 Ferim de Dedos</td>\n",
       "      <td>2599</td>\n",
       "      <td>Fabricacao de Produt</td>\n",
       "      <td>Empregador</td>\n",
       "      <td>Pa</td>\n",
       "      <td>...</td>\n",
       "      <td>Dedo</td>\n",
       "      <td>Masculino</td>\n",
       "      <td>Típico</td>\n",
       "      <td>Rondônia</td>\n",
       "      <td>Minas Gerais</td>\n",
       "      <td>2020/01</td>\n",
       "      <td>0000/00</td>\n",
       "      <td>02/01/2020</td>\n",
       "      <td>10/06/1976</td>\n",
       "      <td>02/01/2020</td>\n",
       "    </tr>\n",
       "  </tbody>\n",
       "</table>\n",
       "<p>5 rows × 25 columns</p>\n",
       "</div>"
      ],
      "text/plain": [
       "  Agente  Causador  Acidente Data Acidente     CBO                 CBO.1  \\\n",
       "0       Vidraria, Fibra de V       2020/01  322230  322230-Auxiliar de E   \n",
       "1       Agente Infeccioso ou       2020/01  322205  322205-Tec. de Enfer   \n",
       "2                                  2020/01  322205  322205-Tec. de Enfer   \n",
       "3       Motor, Bomba, Turbin       2020/01  314410  314410-Tec. em Manut   \n",
       "4       Ferramenta Portatil        2020/01  724315  724315-Soldador        \n",
       "\n",
       "   CID-10              CID-10.1  CNAE2.0 Empregador  CNAE2.0 Empregador.1  \\\n",
       "0  S610    S61.0 Ferim de Dedos                9491  Atividades de Organi   \n",
       "1  Z209    Z20.9 Contato Exposi                8610  Atividades de Atendi   \n",
       "2  Y289    Y28.9 Local Ne                      8610  Atividades de Atendi   \n",
       "3  S610    S61.0 Ferim de Dedos                1012  Abate de Suinos, Ave   \n",
       "4  S610    S61.0 Ferim de Dedos                2599  Fabricacao de Produt   \n",
       "\n",
       "           Emitente CAT  Espécie do benefício  ...  Parte Corpo Atingida  \\\n",
       "0  Empregador            Pa                    ...  Dedo                   \n",
       "1  Empregador            Pa                    ...  Dedo                   \n",
       "2  Empregador            Pa                    ...  Dedo                   \n",
       "3  Empregador            Pa                    ...  Dedo                   \n",
       "4  Empregador            Pa                    ...  Dedo                   \n",
       "\n",
       "                   Sexo      Tipo do Acidente  UF  Munic.  Acidente  \\\n",
       "0  Feminino              Típico                Maranhão               \n",
       "1  Feminino              Típico                                       \n",
       "2  Masculino             Típico                Maranhão               \n",
       "3  Masculino             Típico                                       \n",
       "4  Masculino             Típico                Rondônia               \n",
       "\n",
       "   UF Munic. Empregador Data  Afastamento Data Despacho Benefício  \\\n",
       "0  São Paulo                      0000/00                 0000/00   \n",
       "1  Ceará                          0000/00                 0000/00   \n",
       "2  São Paulo                      0000/00                 0000/00   \n",
       "3  Santa Catarina                 0000/00                 0000/00   \n",
       "4  Minas Gerais                   2020/01                 0000/00   \n",
       "\n",
       "  Data Acidente.1 Data Nascimento Data Emissão CAT  \n",
       "0      01/01/2020      07/09/1977       02/01/2020  \n",
       "1      02/01/2020      27/11/1987       02/01/2020  \n",
       "2      01/01/2020      03/01/1983       02/01/2020  \n",
       "3      02/01/2020      08/10/1988       02/01/2020  \n",
       "4      02/01/2020      10/06/1976       02/01/2020  \n",
       "\n",
       "[5 rows x 25 columns]"
      ]
     },
     "execution_count": 3,
     "metadata": {},
     "output_type": "execute_result"
    }
   ],
   "source": [
    "#visualizando as primeiras linhas do dataset\n",
    "df.head()"
   ]
  },
  {
   "cell_type": "code",
   "execution_count": 5,
   "metadata": {},
   "outputs": [
    {
     "data": {
      "text/html": [
       "<div>\n",
       "<style scoped>\n",
       "    .dataframe tbody tr th:only-of-type {\n",
       "        vertical-align: middle;\n",
       "    }\n",
       "\n",
       "    .dataframe tbody tr th {\n",
       "        vertical-align: top;\n",
       "    }\n",
       "\n",
       "    .dataframe thead th {\n",
       "        text-align: right;\n",
       "    }\n",
       "</style>\n",
       "<table border=\"1\" class=\"dataframe\">\n",
       "  <thead>\n",
       "    <tr style=\"text-align: right;\">\n",
       "      <th></th>\n",
       "      <th>Agente  Causador  Acidente</th>\n",
       "      <th>Data Acidente</th>\n",
       "      <th>CBO</th>\n",
       "      <th>CBO.1</th>\n",
       "      <th>CID-10</th>\n",
       "      <th>CID-10.1</th>\n",
       "      <th>CNAE2.0 Empregador</th>\n",
       "      <th>CNAE2.0 Empregador.1</th>\n",
       "      <th>Emitente CAT</th>\n",
       "      <th>Espécie do benefício</th>\n",
       "      <th>...</th>\n",
       "      <th>Parte Corpo Atingida</th>\n",
       "      <th>Sexo</th>\n",
       "      <th>Tipo do Acidente</th>\n",
       "      <th>UF  Munic.  Acidente</th>\n",
       "      <th>UF Munic. Empregador</th>\n",
       "      <th>Data  Afastamento</th>\n",
       "      <th>Data Despacho Benefício</th>\n",
       "      <th>Data Acidente.1</th>\n",
       "      <th>Data Nascimento</th>\n",
       "      <th>Data Emissão CAT</th>\n",
       "    </tr>\n",
       "  </thead>\n",
       "  <tbody>\n",
       "    <tr>\n",
       "      <th>81259</th>\n",
       "      <td>Veiculo, Nic</td>\n",
       "      <td>2020/02</td>\n",
       "      <td>782510</td>\n",
       "      <td>782510-Motorista de</td>\n",
       "      <td>S826</td>\n",
       "      <td>S82.6 Frat do Maleol</td>\n",
       "      <td>4930</td>\n",
       "      <td>Transporte Rodoviari</td>\n",
       "      <td>Empregador</td>\n",
       "      <td>Auxílio Doenca por A</td>\n",
       "      <td>...</td>\n",
       "      <td>Pe (Exceto Artelhos)</td>\n",
       "      <td>Masculino</td>\n",
       "      <td>Típico</td>\n",
       "      <td></td>\n",
       "      <td>Mato Grosso</td>\n",
       "      <td>2020/02</td>\n",
       "      <td>2020/03</td>\n",
       "      <td>29/02/2020</td>\n",
       "      <td>12/04/1979</td>\n",
       "      <td>02/03/2020</td>\n",
       "    </tr>\n",
       "    <tr>\n",
       "      <th>81260</th>\n",
       "      <td>Animal Vivo</td>\n",
       "      <td>2020/02</td>\n",
       "      <td>611005</td>\n",
       "      <td>611005-Produtor Agro</td>\n",
       "      <td>S523</td>\n",
       "      <td>S52.3 Frat da Diafis</td>\n",
       "      <td>151</td>\n",
       "      <td>Criacao de Bovinos</td>\n",
       "      <td>Empregador</td>\n",
       "      <td>Auxílio Doenca por A</td>\n",
       "      <td>...</td>\n",
       "      <td>Antebraco (Entre O P</td>\n",
       "      <td>Masculino</td>\n",
       "      <td>Típico</td>\n",
       "      <td>Acre</td>\n",
       "      <td>Pará</td>\n",
       "      <td>2020/02</td>\n",
       "      <td>2020/03</td>\n",
       "      <td>19/02/2020</td>\n",
       "      <td>18/04/1994</td>\n",
       "      <td>11/03/2020</td>\n",
       "    </tr>\n",
       "    <tr>\n",
       "      <th>81261</th>\n",
       "      <td>Veiculo Rodoviario M</td>\n",
       "      <td>2020/01</td>\n",
       "      <td>519110</td>\n",
       "      <td>519110-Motociclista</td>\n",
       "      <td>S82</td>\n",
       "      <td>S82   Frat da Perna</td>\n",
       "      <td>4789</td>\n",
       "      <td>Comercio Varejista d</td>\n",
       "      <td>Empregador</td>\n",
       "      <td>Auxílio Doenca por A</td>\n",
       "      <td>...</td>\n",
       "      <td>Perna (Do Tornozelo,</td>\n",
       "      <td>Masculino</td>\n",
       "      <td>Típico</td>\n",
       "      <td>Tocantins</td>\n",
       "      <td>Rio de Janeiro</td>\n",
       "      <td>2020/01</td>\n",
       "      <td>2020/03</td>\n",
       "      <td>29/01/2020</td>\n",
       "      <td>18/09/1976</td>\n",
       "      <td>02/03/2020</td>\n",
       "    </tr>\n",
       "    <tr>\n",
       "      <th>81262</th>\n",
       "      <td>Reacao do Corpo a Mo</td>\n",
       "      <td>2020/02</td>\n",
       "      <td>782510</td>\n",
       "      <td>782510-Motorista de</td>\n",
       "      <td>S43</td>\n",
       "      <td>S43   Luxacao Entors</td>\n",
       "      <td>4930</td>\n",
       "      <td>Transporte Rodoviari</td>\n",
       "      <td>Empregador</td>\n",
       "      <td>Auxílio Doenca por A</td>\n",
       "      <td>...</td>\n",
       "      <td>Ombro</td>\n",
       "      <td>Masculino</td>\n",
       "      <td>Típico</td>\n",
       "      <td>Maranhão</td>\n",
       "      <td>São Paulo</td>\n",
       "      <td>2020/02</td>\n",
       "      <td>2020/03</td>\n",
       "      <td>21/02/2020</td>\n",
       "      <td>21/07/1985</td>\n",
       "      <td>02/03/2020</td>\n",
       "    </tr>\n",
       "    <tr>\n",
       "      <th>81263</th>\n",
       "      <td>Equip. Eletrico, Nic</td>\n",
       "      <td>2020/02</td>\n",
       "      <td>715615</td>\n",
       "      <td>715615-Eletricista I</td>\n",
       "      <td>S681</td>\n",
       "      <td>S68.1 Amput Traum de</td>\n",
       "      <td>4321</td>\n",
       "      <td>Instalacoes Eletrica</td>\n",
       "      <td>Empregador</td>\n",
       "      <td>Auxílio Doenca por A</td>\n",
       "      <td>...</td>\n",
       "      <td>Dedo</td>\n",
       "      <td>Masculino</td>\n",
       "      <td>Típico</td>\n",
       "      <td>Maranhão</td>\n",
       "      <td>São Paulo</td>\n",
       "      <td>2020/02</td>\n",
       "      <td>2020/03</td>\n",
       "      <td>28/02/2020</td>\n",
       "      <td>12/04/1983</td>\n",
       "      <td>02/03/2020</td>\n",
       "    </tr>\n",
       "  </tbody>\n",
       "</table>\n",
       "<p>5 rows × 25 columns</p>\n",
       "</div>"
      ],
      "text/plain": [
       "      Agente  Causador  Acidente Data Acidente     CBO                 CBO.1  \\\n",
       "81259       Veiculo, Nic               2020/02  782510  782510-Motorista de    \n",
       "81260       Animal Vivo                2020/02  611005  611005-Produtor Agro   \n",
       "81261       Veiculo Rodoviario M       2020/01  519110  519110-Motociclista    \n",
       "81262       Reacao do Corpo a Mo       2020/02  782510  782510-Motorista de    \n",
       "81263       Equip. Eletrico, Nic       2020/02  715615  715615-Eletricista I   \n",
       "\n",
       "       CID-10              CID-10.1  CNAE2.0 Empregador  CNAE2.0 Empregador.1  \\\n",
       "81259  S826    S82.6 Frat do Maleol                4930  Transporte Rodoviari   \n",
       "81260  S523    S52.3 Frat da Diafis                 151  Criacao de Bovinos     \n",
       "81261  S82     S82   Frat da Perna                 4789  Comercio Varejista d   \n",
       "81262  S43     S43   Luxacao Entors                4930  Transporte Rodoviari   \n",
       "81263  S681    S68.1 Amput Traum de                4321  Instalacoes Eletrica   \n",
       "\n",
       "               Emitente CAT  Espécie do benefício  ...  Parte Corpo Atingida  \\\n",
       "81259  Empregador            Auxílio Doenca por A  ...  Pe (Exceto Artelhos)   \n",
       "81260  Empregador            Auxílio Doenca por A  ...  Antebraco (Entre O P   \n",
       "81261  Empregador            Auxílio Doenca por A  ...  Perna (Do Tornozelo,   \n",
       "81262  Empregador            Auxílio Doenca por A  ...  Ombro                  \n",
       "81263  Empregador            Auxílio Doenca por A  ...  Dedo                   \n",
       "\n",
       "                       Sexo      Tipo do Acidente  UF  Munic.  Acidente  \\\n",
       "81259  Masculino             Típico                                       \n",
       "81260  Masculino             Típico                Acre                   \n",
       "81261  Masculino             Típico                Tocantins              \n",
       "81262  Masculino             Típico                Maranhão               \n",
       "81263  Masculino             Típico                Maranhão               \n",
       "\n",
       "       UF Munic. Empregador Data  Afastamento Data Despacho Benefício  \\\n",
       "81259  Mato Grosso                    2020/02                 2020/03   \n",
       "81260  Pará                           2020/02                 2020/03   \n",
       "81261  Rio de Janeiro                 2020/01                 2020/03   \n",
       "81262  São Paulo                      2020/02                 2020/03   \n",
       "81263  São Paulo                      2020/02                 2020/03   \n",
       "\n",
       "      Data Acidente.1 Data Nascimento Data Emissão CAT  \n",
       "81259      29/02/2020      12/04/1979       02/03/2020  \n",
       "81260      19/02/2020      18/04/1994       11/03/2020  \n",
       "81261      29/01/2020      18/09/1976       02/03/2020  \n",
       "81262      21/02/2020      21/07/1985       02/03/2020  \n",
       "81263      28/02/2020      12/04/1983       02/03/2020  \n",
       "\n",
       "[5 rows x 25 columns]"
      ]
     },
     "execution_count": 5,
     "metadata": {},
     "output_type": "execute_result"
    }
   ],
   "source": [
    "#visualizando linhas finais\n",
    "df.tail()"
   ]
  },
  {
   "cell_type": "code",
   "execution_count": 6,
   "metadata": {},
   "outputs": [
    {
     "data": {
      "text/plain": [
       "(81264, 25)"
      ]
     },
     "execution_count": 6,
     "metadata": {},
     "output_type": "execute_result"
    }
   ],
   "source": [
    "#visualizando a dimensão do conjunto de dados\n",
    "df.shape"
   ]
  },
  {
   "cell_type": "code",
   "execution_count": 8,
   "metadata": {},
   "outputs": [
    {
     "data": {
      "text/html": [
       "<div>\n",
       "<style scoped>\n",
       "    .dataframe tbody tr th:only-of-type {\n",
       "        vertical-align: middle;\n",
       "    }\n",
       "\n",
       "    .dataframe tbody tr th {\n",
       "        vertical-align: top;\n",
       "    }\n",
       "\n",
       "    .dataframe thead th {\n",
       "        text-align: right;\n",
       "    }\n",
       "</style>\n",
       "<table border=\"1\" class=\"dataframe\">\n",
       "  <thead>\n",
       "    <tr style=\"text-align: right;\">\n",
       "      <th></th>\n",
       "      <th>CBO</th>\n",
       "      <th>CNAE2.0 Empregador</th>\n",
       "    </tr>\n",
       "  </thead>\n",
       "  <tbody>\n",
       "    <tr>\n",
       "      <th>count</th>\n",
       "      <td>81264.000000</td>\n",
       "      <td>81264.000000</td>\n",
       "    </tr>\n",
       "    <tr>\n",
       "      <th>mean</th>\n",
       "      <td>596828.327734</td>\n",
       "      <td>4711.478354</td>\n",
       "    </tr>\n",
       "    <tr>\n",
       "      <th>std</th>\n",
       "      <td>203236.869739</td>\n",
       "      <td>2788.606126</td>\n",
       "    </tr>\n",
       "    <tr>\n",
       "      <th>min</th>\n",
       "      <td>0.000000</td>\n",
       "      <td>0.000000</td>\n",
       "    </tr>\n",
       "    <tr>\n",
       "      <th>25%</th>\n",
       "      <td>415210.000000</td>\n",
       "      <td>2431.000000</td>\n",
       "    </tr>\n",
       "    <tr>\n",
       "      <th>50%</th>\n",
       "      <td>621005.000000</td>\n",
       "      <td>4692.000000</td>\n",
       "    </tr>\n",
       "    <tr>\n",
       "      <th>75%</th>\n",
       "      <td>782510.000000</td>\n",
       "      <td>8011.000000</td>\n",
       "    </tr>\n",
       "    <tr>\n",
       "      <th>max</th>\n",
       "      <td>999999.000000</td>\n",
       "      <td>9900.000000</td>\n",
       "    </tr>\n",
       "  </tbody>\n",
       "</table>\n",
       "</div>"
      ],
      "text/plain": [
       "                 CBO  CNAE2.0 Empregador\n",
       "count   81264.000000        81264.000000\n",
       "mean   596828.327734         4711.478354\n",
       "std    203236.869739         2788.606126\n",
       "min         0.000000            0.000000\n",
       "25%    415210.000000         2431.000000\n",
       "50%    621005.000000         4692.000000\n",
       "75%    782510.000000         8011.000000\n",
       "max    999999.000000         9900.000000"
      ]
     },
     "execution_count": 8,
     "metadata": {},
     "output_type": "execute_result"
    }
   ],
   "source": [
    "#descrevendo coluna númericas ou um resumo estatistico\n",
    "df.describe()"
   ]
  },
  {
   "cell_type": "code",
   "execution_count": 9,
   "metadata": {},
   "outputs": [],
   "source": [
    "# é possivel observar que não tem muita importância esse resumo"
   ]
  },
  {
   "cell_type": "code",
   "execution_count": 10,
   "metadata": {},
   "outputs": [
    {
     "data": {
      "text/plain": [
       "Index(['Agente  Causador  Acidente', 'Data Acidente', 'CBO', 'CBO.1', 'CID-10',\n",
       "       'CID-10.1', 'CNAE2.0 Empregador', 'CNAE2.0 Empregador.1',\n",
       "       'Emitente CAT', 'Espécie do benefício', 'Filiação Segurado',\n",
       "       'Indica acidente', 'Munic Empr', 'Natureza da Lesão',\n",
       "       'Origem de Cadastramento CAT', 'Parte Corpo Atingida', 'Sexo',\n",
       "       'Tipo do Acidente', 'UF  Munic.  Acidente', 'UF Munic. Empregador',\n",
       "       'Data  Afastamento', 'Data Despacho Benefício', 'Data Acidente.1',\n",
       "       'Data Nascimento', 'Data Emissão CAT'],\n",
       "      dtype='object')"
      ]
     },
     "execution_count": 10,
     "metadata": {},
     "output_type": "execute_result"
    }
   ],
   "source": [
    "#aqui vamos visualizar as colunas do nosso dataset\n",
    "df.columns"
   ]
  },
  {
   "cell_type": "code",
   "execution_count": 14,
   "metadata": {},
   "outputs": [
    {
     "data": {
      "text/plain": [
       "Agente  Causador  Acidente       263\n",
       "Data Acidente                      9\n",
       "CBO                             2010\n",
       "CBO.1                           1480\n",
       "CID-10                          2325\n",
       "CID-10.1                        2172\n",
       "CNAE2.0 Empregador               661\n",
       "CNAE2.0 Empregador.1             379\n",
       "Emitente CAT                       5\n",
       "Espécie do benefício               4\n",
       "Filiação Segurado                  4\n",
       "Indica acidente                    2\n",
       "Munic Empr                      2930\n",
       "Natureza da Lesão                 29\n",
       "Origem de Cadastramento CAT        1\n",
       "Parte Corpo Atingida              43\n",
       "Sexo                               4\n",
       "Tipo do Acidente                   3\n",
       "UF  Munic.  Acidente              16\n",
       "UF Munic. Empregador              27\n",
       "Data  Afastamento                  9\n",
       "Data Despacho Benefício            7\n",
       "Data Acidente.1                  112\n",
       "Data Nascimento                16511\n",
       "Data Emissão CAT                  91\n",
       "dtype: int64"
      ]
     },
     "execution_count": 14,
     "metadata": {},
     "output_type": "execute_result"
    }
   ],
   "source": [
    "#verificando os valores únicos com a função nunique()\n",
    "df.nunique()"
   ]
  },
  {
   "cell_type": "code",
   "execution_count": 17,
   "metadata": {},
   "outputs": [
    {
     "data": {
      "text/plain": [
       "Agente  Causador  Acidente     object\n",
       "Data Acidente                  object\n",
       "CBO                             int64\n",
       "CBO.1                          object\n",
       "CID-10                         object\n",
       "CID-10.1                       object\n",
       "CNAE2.0 Empregador              int64\n",
       "CNAE2.0 Empregador.1           object\n",
       "Emitente CAT                   object\n",
       "Espécie do benefício           object\n",
       "Filiação Segurado              object\n",
       "Indica acidente                object\n",
       "Munic Empr                     object\n",
       "Natureza da Lesão              object\n",
       "Origem de Cadastramento CAT    object\n",
       "Parte Corpo Atingida           object\n",
       "Sexo                           object\n",
       "Tipo do Acidente               object\n",
       "UF  Munic.  Acidente           object\n",
       "UF Munic. Empregador           object\n",
       "Data  Afastamento              object\n",
       "Data Despacho Benefício        object\n",
       "Data Acidente.1                object\n",
       "Data Nascimento                object\n",
       "Data Emissão CAT               object\n",
       "dtype: object"
      ]
     },
     "execution_count": 17,
     "metadata": {},
     "output_type": "execute_result"
    }
   ],
   "source": [
    "#verificando o tipo dos dados\n",
    "df.dtypes"
   ]
  },
  {
   "cell_type": "markdown",
   "metadata": {},
   "source": [
    "## Limpeza e transformação dos dados"
   ]
  },
  {
   "cell_type": "code",
   "execution_count": 19,
   "metadata": {},
   "outputs": [
    {
     "data": {
      "text/plain": [
       "Agente  Causador  Acidente     0\n",
       "Data Acidente                  0\n",
       "CBO                            0\n",
       "CBO.1                          0\n",
       "CID-10                         0\n",
       "CID-10.1                       0\n",
       "CNAE2.0 Empregador             0\n",
       "CNAE2.0 Empregador.1           0\n",
       "Emitente CAT                   0\n",
       "Espécie do benefício           0\n",
       "Filiação Segurado              0\n",
       "Indica acidente                0\n",
       "Munic Empr                     0\n",
       "Natureza da Lesão              0\n",
       "Origem de Cadastramento CAT    0\n",
       "Parte Corpo Atingida           0\n",
       "Sexo                           0\n",
       "Tipo do Acidente               0\n",
       "UF  Munic.  Acidente           0\n",
       "UF Munic. Empregador           0\n",
       "Data  Afastamento              0\n",
       "Data Despacho Benefício        0\n",
       "Data Acidente.1                0\n",
       "Data Nascimento                0\n",
       "Data Emissão CAT               0\n",
       "dtype: int64"
      ]
     },
     "execution_count": 19,
     "metadata": {},
     "output_type": "execute_result"
    }
   ],
   "source": [
    "#vericando os valores faltantes \n",
    "df.isnull().sum()"
   ]
  },
  {
   "cell_type": "code",
   "execution_count": 21,
   "metadata": {},
   "outputs": [],
   "source": [
    "# note que acima não tem nenhum valor faltante todos zerados mas vamos proseguir "
   ]
  },
  {
   "cell_type": "code",
   "execution_count": 22,
   "metadata": {},
   "outputs": [
    {
     "data": {
      "text/html": [
       "<div>\n",
       "<style scoped>\n",
       "    .dataframe tbody tr th:only-of-type {\n",
       "        vertical-align: middle;\n",
       "    }\n",
       "\n",
       "    .dataframe tbody tr th {\n",
       "        vertical-align: top;\n",
       "    }\n",
       "\n",
       "    .dataframe thead th {\n",
       "        text-align: right;\n",
       "    }\n",
       "</style>\n",
       "<table border=\"1\" class=\"dataframe\">\n",
       "  <thead>\n",
       "    <tr style=\"text-align: right;\">\n",
       "      <th></th>\n",
       "      <th>Agente  Causador  Acidente</th>\n",
       "      <th>CBO.1</th>\n",
       "      <th>CID-10.1</th>\n",
       "      <th>CNAE2.0 Empregador.1</th>\n",
       "      <th>Emitente CAT</th>\n",
       "      <th>Natureza da Lesão</th>\n",
       "      <th>Parte Corpo Atingida</th>\n",
       "      <th>Sexo</th>\n",
       "      <th>Tipo do Acidente</th>\n",
       "      <th>UF  Munic.  Acidente</th>\n",
       "      <th>UF Munic. Empregador</th>\n",
       "    </tr>\n",
       "  </thead>\n",
       "  <tbody>\n",
       "    <tr>\n",
       "      <th>0</th>\n",
       "      <td>Vidraria, Fibra de V</td>\n",
       "      <td>322230-Auxiliar de E</td>\n",
       "      <td>S61.0 Ferim de Dedos</td>\n",
       "      <td>Atividades de Organi</td>\n",
       "      <td>Empregador</td>\n",
       "      <td>Lesao Imediata</td>\n",
       "      <td>Dedo</td>\n",
       "      <td>Feminino</td>\n",
       "      <td>Típico</td>\n",
       "      <td>Maranhão</td>\n",
       "      <td>São Paulo</td>\n",
       "    </tr>\n",
       "    <tr>\n",
       "      <th>1</th>\n",
       "      <td>Agente Infeccioso ou</td>\n",
       "      <td>322205-Tec. de Enfer</td>\n",
       "      <td>Z20.9 Contato Exposi</td>\n",
       "      <td>Atividades de Atendi</td>\n",
       "      <td>Empregador</td>\n",
       "      <td>Corte, Laceracao, Fe</td>\n",
       "      <td>Dedo</td>\n",
       "      <td>Feminino</td>\n",
       "      <td>Típico</td>\n",
       "      <td></td>\n",
       "      <td>Ceará</td>\n",
       "    </tr>\n",
       "    <tr>\n",
       "      <th>2</th>\n",
       "      <td></td>\n",
       "      <td>322205-Tec. de Enfer</td>\n",
       "      <td>Y28.9 Local Ne</td>\n",
       "      <td>Atividades de Atendi</td>\n",
       "      <td>Empregador</td>\n",
       "      <td>Corte, Laceracao, Fe</td>\n",
       "      <td>Dedo</td>\n",
       "      <td>Masculino</td>\n",
       "      <td>Típico</td>\n",
       "      <td>Maranhão</td>\n",
       "      <td>São Paulo</td>\n",
       "    </tr>\n",
       "    <tr>\n",
       "      <th>3</th>\n",
       "      <td>Motor, Bomba, Turbin</td>\n",
       "      <td>314410-Tec. em Manut</td>\n",
       "      <td>S61.0 Ferim de Dedos</td>\n",
       "      <td>Abate de Suinos, Ave</td>\n",
       "      <td>Empregador</td>\n",
       "      <td>Corte, Laceracao, Fe</td>\n",
       "      <td>Dedo</td>\n",
       "      <td>Masculino</td>\n",
       "      <td>Típico</td>\n",
       "      <td></td>\n",
       "      <td>Santa Catarina</td>\n",
       "    </tr>\n",
       "    <tr>\n",
       "      <th>4</th>\n",
       "      <td>Ferramenta Portatil</td>\n",
       "      <td>724315-Soldador</td>\n",
       "      <td>S61.0 Ferim de Dedos</td>\n",
       "      <td>Fabricacao de Produt</td>\n",
       "      <td>Empregador</td>\n",
       "      <td>Corte, Laceracao, Fe</td>\n",
       "      <td>Dedo</td>\n",
       "      <td>Masculino</td>\n",
       "      <td>Típico</td>\n",
       "      <td>Rondônia</td>\n",
       "      <td>Minas Gerais</td>\n",
       "    </tr>\n",
       "  </tbody>\n",
       "</table>\n",
       "</div>"
      ],
      "text/plain": [
       "  Agente  Causador  Acidente                 CBO.1              CID-10.1  \\\n",
       "0       Vidraria, Fibra de V  322230-Auxiliar de E  S61.0 Ferim de Dedos   \n",
       "1       Agente Infeccioso ou  322205-Tec. de Enfer  Z20.9 Contato Exposi   \n",
       "2                             322205-Tec. de Enfer  Y28.9 Local Ne         \n",
       "3       Motor, Bomba, Turbin  314410-Tec. em Manut  S61.0 Ferim de Dedos   \n",
       "4       Ferramenta Portatil   724315-Soldador       S61.0 Ferim de Dedos   \n",
       "\n",
       "   CNAE2.0 Empregador.1          Emitente CAT     Natureza da Lesão  \\\n",
       "0  Atividades de Organi  Empregador            Lesao Imediata         \n",
       "1  Atividades de Atendi  Empregador            Corte, Laceracao, Fe   \n",
       "2  Atividades de Atendi  Empregador            Corte, Laceracao, Fe   \n",
       "3  Abate de Suinos, Ave  Empregador            Corte, Laceracao, Fe   \n",
       "4  Fabricacao de Produt  Empregador            Corte, Laceracao, Fe   \n",
       "\n",
       "   Parte Corpo Atingida                  Sexo      Tipo do Acidente  \\\n",
       "0  Dedo                  Feminino              Típico                 \n",
       "1  Dedo                  Feminino              Típico                 \n",
       "2  Dedo                  Masculino             Típico                 \n",
       "3  Dedo                  Masculino             Típico                 \n",
       "4  Dedo                  Masculino             Típico                 \n",
       "\n",
       "   UF  Munic.  Acidente  UF Munic. Empregador  \n",
       "0  Maranhão              São Paulo             \n",
       "1                        Ceará                 \n",
       "2  Maranhão              São Paulo             \n",
       "3                        Santa Catarina        \n",
       "4  Rondônia              Minas Gerais          "
      ]
     },
     "execution_count": 22,
     "metadata": {},
     "output_type": "execute_result"
    }
   ],
   "source": [
    "#Agora vamos remover algumas colunas não interessantes\n",
    "df2=df.drop(['Data Acidente','Data  Afastamento','Data Despacho Benefício','Data Acidente.1','Data Nascimento', 'Espécie do benefício','CBO',\n",
    "             'Data Emissão CAT','Filiação Segurado','CNAE2.0 Empregador','Origem de Cadastramento CAT','CID-10',\n",
    "             'Indica acidente','Munic Empr'],axis=1)\n",
    "          \n",
    "df2.head()"
   ]
  },
  {
   "cell_type": "code",
   "execution_count": 59,
   "metadata": {},
   "outputs": [
    {
     "data": {
      "text/html": [
       "<div>\n",
       "<style scoped>\n",
       "    .dataframe tbody tr th:only-of-type {\n",
       "        vertical-align: middle;\n",
       "    }\n",
       "\n",
       "    .dataframe tbody tr th {\n",
       "        vertical-align: top;\n",
       "    }\n",
       "\n",
       "    .dataframe thead th {\n",
       "        text-align: right;\n",
       "    }\n",
       "</style>\n",
       "<table border=\"1\" class=\"dataframe\">\n",
       "  <thead>\n",
       "    <tr style=\"text-align: right;\">\n",
       "      <th></th>\n",
       "      <th>Agente  Causador  Acidente</th>\n",
       "      <th>CBO</th>\n",
       "      <th>CID-10</th>\n",
       "      <th>CNAE2.0_Empregador</th>\n",
       "      <th>Emitente CAT</th>\n",
       "      <th>Natureza da Lesão</th>\n",
       "      <th>Parte Corpo Atingida</th>\n",
       "      <th>Sexo</th>\n",
       "      <th>Tipo do Acidente</th>\n",
       "      <th>UF  Munic.  Acidente</th>\n",
       "      <th>UF_empregador</th>\n",
       "    </tr>\n",
       "  </thead>\n",
       "  <tbody>\n",
       "    <tr>\n",
       "      <th>0</th>\n",
       "      <td>Vidraria, Fibra de V</td>\n",
       "      <td>322230-Auxiliar de E</td>\n",
       "      <td>S61.0 Ferim de Dedos</td>\n",
       "      <td>Atividades de Organi</td>\n",
       "      <td>Empregador</td>\n",
       "      <td>Lesao Imediata</td>\n",
       "      <td>Dedo</td>\n",
       "      <td>Feminino</td>\n",
       "      <td>Típico</td>\n",
       "      <td>Maranhão</td>\n",
       "      <td>São Paulo</td>\n",
       "    </tr>\n",
       "    <tr>\n",
       "      <th>1</th>\n",
       "      <td>Agente Infeccioso ou</td>\n",
       "      <td>322205-Tec. de Enfer</td>\n",
       "      <td>Z20.9 Contato Exposi</td>\n",
       "      <td>Atividades de Atendi</td>\n",
       "      <td>Empregador</td>\n",
       "      <td>Corte, Laceracao, Fe</td>\n",
       "      <td>Dedo</td>\n",
       "      <td>Feminino</td>\n",
       "      <td>Típico</td>\n",
       "      <td></td>\n",
       "      <td>Ceará</td>\n",
       "    </tr>\n",
       "    <tr>\n",
       "      <th>2</th>\n",
       "      <td></td>\n",
       "      <td>322205-Tec. de Enfer</td>\n",
       "      <td>Y28.9 Local Ne</td>\n",
       "      <td>Atividades de Atendi</td>\n",
       "      <td>Empregador</td>\n",
       "      <td>Corte, Laceracao, Fe</td>\n",
       "      <td>Dedo</td>\n",
       "      <td>Masculino</td>\n",
       "      <td>Típico</td>\n",
       "      <td>Maranhão</td>\n",
       "      <td>São Paulo</td>\n",
       "    </tr>\n",
       "    <tr>\n",
       "      <th>3</th>\n",
       "      <td>Motor, Bomba, Turbin</td>\n",
       "      <td>314410-Tec. em Manut</td>\n",
       "      <td>S61.0 Ferim de Dedos</td>\n",
       "      <td>Abate de Suinos, Ave</td>\n",
       "      <td>Empregador</td>\n",
       "      <td>Corte, Laceracao, Fe</td>\n",
       "      <td>Dedo</td>\n",
       "      <td>Masculino</td>\n",
       "      <td>Típico</td>\n",
       "      <td></td>\n",
       "      <td>Santa Catarina</td>\n",
       "    </tr>\n",
       "    <tr>\n",
       "      <th>4</th>\n",
       "      <td>Ferramenta Portatil</td>\n",
       "      <td>724315-Soldador</td>\n",
       "      <td>S61.0 Ferim de Dedos</td>\n",
       "      <td>Fabricacao de Produt</td>\n",
       "      <td>Empregador</td>\n",
       "      <td>Corte, Laceracao, Fe</td>\n",
       "      <td>Dedo</td>\n",
       "      <td>Masculino</td>\n",
       "      <td>Típico</td>\n",
       "      <td>Rondônia</td>\n",
       "      <td>Minas Gerais</td>\n",
       "    </tr>\n",
       "  </tbody>\n",
       "</table>\n",
       "</div>"
      ],
      "text/plain": [
       "  Agente  Causador  Acidente                   CBO                CID-10  \\\n",
       "0       Vidraria, Fibra de V  322230-Auxiliar de E  S61.0 Ferim de Dedos   \n",
       "1       Agente Infeccioso ou  322205-Tec. de Enfer  Z20.9 Contato Exposi   \n",
       "2                             322205-Tec. de Enfer  Y28.9 Local Ne         \n",
       "3       Motor, Bomba, Turbin  314410-Tec. em Manut  S61.0 Ferim de Dedos   \n",
       "4       Ferramenta Portatil   724315-Soldador       S61.0 Ferim de Dedos   \n",
       "\n",
       "     CNAE2.0_Empregador          Emitente CAT     Natureza da Lesão  \\\n",
       "0  Atividades de Organi  Empregador            Lesao Imediata         \n",
       "1  Atividades de Atendi  Empregador            Corte, Laceracao, Fe   \n",
       "2  Atividades de Atendi  Empregador            Corte, Laceracao, Fe   \n",
       "3  Abate de Suinos, Ave  Empregador            Corte, Laceracao, Fe   \n",
       "4  Fabricacao de Produt  Empregador            Corte, Laceracao, Fe   \n",
       "\n",
       "   Parte Corpo Atingida                  Sexo      Tipo do Acidente  \\\n",
       "0  Dedo                  Feminino              Típico                 \n",
       "1  Dedo                  Feminino              Típico                 \n",
       "2  Dedo                  Masculino             Típico                 \n",
       "3  Dedo                  Masculino             Típico                 \n",
       "4  Dedo                  Masculino             Típico                 \n",
       "\n",
       "   UF  Munic.  Acidente         UF_empregador  \n",
       "0  Maranhão              São Paulo             \n",
       "1                        Ceará                 \n",
       "2  Maranhão              São Paulo             \n",
       "3                        Santa Catarina        \n",
       "4  Rondônia              Minas Gerais          "
      ]
     },
     "execution_count": 59,
     "metadata": {},
     "output_type": "execute_result"
    }
   ],
   "source": [
    "#renomeando algumas colunas\n",
    "df2.rename(columns={\"UF Munic. Empregador\": \"UF_empregador\",\"CBO.1\":\"CBO\",\"CID-10.1\":\"CID-10\",\n",
    "                    \"CNAE2.0 Empregador.1\":\"CNAE2.0_Empregador\"},inplace=True)\n",
    "df2.head()"
   ]
  },
  {
   "cell_type": "markdown",
   "metadata": {},
   "source": [
    "## Análise exploratória "
   ]
  },
  {
   "cell_type": "markdown",
   "metadata": {},
   "source": [
    "Agora com os dados organizados , chegou a hora de responder algumas questões apresentadas acima , primeiro vamos fazer uma apresentação dos dados em números e em seguida uma visualização para se ter uma melhor resposta de forma visual."
   ]
  },
  {
   "cell_type": "markdown",
   "metadata": {},
   "source": [
    "### 1) Qual a quantidade de pessoas que recorreu o CAT por sexo ?"
   ]
  },
  {
   "cell_type": "code",
   "execution_count": 62,
   "metadata": {},
   "outputs": [
    {
     "data": {
      "text/plain": [
       "Masculino               56145\n",
       "Feminino                24955\n",
       "Não Informado             163\n",
       "Indeterminado               1\n",
       "Name: Sexo, dtype: int64"
      ]
     },
     "execution_count": 62,
     "metadata": {},
     "output_type": "execute_result"
    }
   ],
   "source": [
    "#contagem de sexo\n",
    "df2['Sexo'].value_counts()"
   ]
  },
  {
   "cell_type": "code",
   "execution_count": 65,
   "metadata": {},
   "outputs": [],
   "source": [
    "# veja que a maior quantidade se concentra no sexo masculino , para visualizar melhor vamos plotar um gráfico"
   ]
  },
  {
   "cell_type": "code",
   "execution_count": 157,
   "metadata": {},
   "outputs": [
    {
     "data": {
      "text/plain": [
       "<matplotlib.axes._subplots.AxesSubplot at 0x1f97ac1e4f0>"
      ]
     },
     "execution_count": 157,
     "metadata": {},
     "output_type": "execute_result"
    },
    {
     "data": {
      "image/png": "[encoded data removed]",
      "text/plain": [
       "<Figure size 640x480 with 1 Axes>"
      ]
     },
     "metadata": {},
     "output_type": "display_data"
    }
   ],
   "source": [
    "df2['Sexo'].value_counts().plot.bar(rot=0,stacked=True)\n"
   ]
  },
  {
   "cell_type": "markdown",
   "metadata": {},
   "source": [
    "### 2) Qual a quantidade de responsável ( empregador, sindicato, médico, segurado, autoridade pública) pela emissão da CAT ?"
   ]
  },
  {
   "cell_type": "code",
   "execution_count": 100,
   "metadata": {},
   "outputs": [
    {
     "data": {
      "text/plain": [
       "Empregador              80173\n",
       "Segurado/Dependente       488\n",
       "Sindicato                 392\n",
       "Médico                    148\n",
       "Autoridade Pública         63\n",
       "Name: Emitente CAT, dtype: int64"
      ]
     },
     "execution_count": 100,
     "metadata": {},
     "output_type": "execute_result"
    }
   ],
   "source": [
    "df2['Emitente CAT'].value_counts()"
   ]
  },
  {
   "cell_type": "code",
   "execution_count": 159,
   "metadata": {},
   "outputs": [
    {
     "data": {
      "text/plain": [
       "<matplotlib.axes._subplots.AxesSubplot at 0x1f97acb95e0>"
      ]
     },
     "execution_count": 159,
     "metadata": {},
     "output_type": "execute_result"
    },
    {
     "data": {
      "image/png": "[encoded data removed]",
      "text/plain": [
       "<Figure size 640x480 with 1 Axes>"
      ]
     },
     "metadata": {},
     "output_type": "display_data"
    }
   ],
   "source": [
    "df2['Emitente CAT'].value_counts().plot.barh()"
   ]
  },
  {
   "cell_type": "markdown",
   "metadata": {},
   "source": [
    "### 3) Quais são as 5 maiores partes do corpo atingida ?"
   ]
  },
  {
   "cell_type": "code",
   "execution_count": 107,
   "metadata": {},
   "outputs": [
    {
     "data": {
      "text/plain": [
       "Dedo                    22678\n",
       "Pe (Exceto Artelhos)     7184\n",
       "Mao (Exceto Punho ou     6473\n",
       "Joelho                   3372\n",
       "Olho (Inclusive Nerv     3036\n",
       "Perna (Do Tornozelo,     2911\n",
       "Partes Multiplas - A     2552\n",
       "Perna (Entre O Torno     2461\n",
       "Articulacao do Torno     2407\n",
       "Cabeca, Nic              2335\n",
       "Ombro                    2313\n",
       "Braco (Entre O Punho     2275\n",
       "Membros Superiores,      2204\n",
       "Punho                    2182\n",
       "Antebraco (Entre O P     1878\n",
       "Membros Inferiores,      1820\n",
       "Dorso (Inclusive Mus     1784\n",
       "Face, Partes Multipl     1575\n",
       "Sistema Nervoso          1114\n",
       "Cabeca, Partes Multi      784\n",
       "Tronco, Nic               767\n",
       "Tronco, Parte Multip      755\n",
       "Quadris (Inclusive P      740\n",
       "Cotovelo                  738\n",
       "Torax (Inclusive Org      709\n",
       "Braco (Acima do Coto      571\n",
       "Coxa                      556\n",
       "Artelho                   531\n",
       "Boca (Inclusive Labi      472\n",
       "Abdome (Inclusive Or      296\n",
       "Aparelho Respiratori      278\n",
       "Pescoco                   252\n",
       "Nariz (Inclusive Fos      250\n",
       "Sistema Musculo-Esqu      220\n",
       "Ouvido (Externo, Med      201\n",
       "Sistemas e Aparelhos      154\n",
       "Cranio (Inclusive En      144\n",
       "Mandibula (Inclusive       97\n",
       "Aparelho Digestivo         63\n",
       "                           60\n",
       "Aparelho Genito-Urin       40\n",
       "Localizacao da Lesao       23\n",
       "Aparelho Circulatori        9\n",
       "Name: Parte Corpo Atingida, dtype: int64"
      ]
     },
     "execution_count": 107,
     "metadata": {},
     "output_type": "execute_result"
    }
   ],
   "source": [
    "df2['Parte Corpo Atingida'].value_counts()"
   ]
  },
  {
   "cell_type": "code",
   "execution_count": 121,
   "metadata": {},
   "outputs": [
    {
     "data": {
      "image/png": "[encoded data removed]",
      "text/plain": [
       "<Figure size 640x480 with 1 Axes>"
      ]
     },
     "metadata": {},
     "output_type": "display_data"
    }
   ],
   "source": [
    "# rank gráfico das 5 maiores partes do corpo atingida\n",
    "fig, ax = plt.subplots()\n",
    "plt.style.use('ggplot')\n",
    "plt.rcdefaults()\n",
    "y_pos = np.arange(len(df2['Parte Corpo Atingida'].value_counts()[:5]))\n",
    "values = df2['Parte Corpo Atingida'].value_counts()[:5]\n",
    "partes = df2['Parte Corpo Atingida'].unique()[:5]\n",
    "\n",
    "ax.barh(y_pos, values, align='center', color='blue')\n",
    "ax.set_yticks(y_pos)\n",
    "ax.set_yticklabels(partes)\n",
    "ax.invert_yaxis()\n",
    "ax.set_xlabel('Nº')\n",
    "ax.set_title(' 5 maiores partes do corpo atingida')\n",
    "plt.show()"
   ]
  },
  {
   "cell_type": "markdown",
   "metadata": {},
   "source": [
    "### 4) Qual o tipo de acidente mais comum ?"
   ]
  },
  {
   "cell_type": "code",
   "execution_count": 110,
   "metadata": {},
   "outputs": [
    {
     "data": {
      "text/plain": [
       "Típico                  76368\n",
       "Trajeto                  3763\n",
       "Doença                   1133\n",
       "Name: Tipo do Acidente, dtype: int64"
      ]
     },
     "execution_count": 110,
     "metadata": {},
     "output_type": "execute_result"
    }
   ],
   "source": [
    "# verificando com value_counts()\n",
    "df2['Tipo do Acidente'].value_counts()"
   ]
  },
  {
   "cell_type": "code",
   "execution_count": 153,
   "metadata": {},
   "outputs": [
    {
     "data": {
      "text/plain": [
       "<matplotlib.axes._subplots.AxesSubplot at 0x1f979bc34c0>"
      ]
     },
     "execution_count": 153,
     "metadata": {},
     "output_type": "execute_result"
    },
    {
     "data": {
      "image/png": "[encoded data removed]",
      "text/plain": [
       "<Figure size 640x480 with 1 Axes>"
      ]
     },
     "metadata": {},
     "output_type": "display_data"
    }
   ],
   "source": [
    "df2['Tipo do Acidente'].value_counts().plot.bar(color='red',rot=0)"
   ]
  },
  {
   "cell_type": "markdown",
   "metadata": {},
   "source": [
    "##### O acidente tipico é ocorre em um momento no horário do trabalho e no ambiente , a pessoa se descuidou ou até mesmo falta de proteção"
   ]
  },
  {
   "cell_type": "markdown",
   "metadata": {},
   "source": [
    "### 5) Quais as 5 maiores classificação Brasileira de Ocupações apresenta um número elevado de acidentes ?"
   ]
  },
  {
   "cell_type": "code",
   "execution_count": 115,
   "metadata": {},
   "outputs": [
    {
     "data": {
      "text/plain": [
       "                        8356\n",
       "322205-Tec. de Enfer    5559\n",
       "784205-Alimentador d    5155\n",
       "782510-Motorista de     1971\n",
       "717020-Servente de O    1902\n",
       "                        ... \n",
       "777110-Carpinteiro N       1\n",
       "321310-Tec. em Carci       1\n",
       "374105-Tec. Gravação       1\n",
       "821430-Oper. Escória       1\n",
       "328110-Taxidermista        1\n",
       "Name: CBO, Length: 1480, dtype: int64"
      ]
     },
     "execution_count": 115,
     "metadata": {},
     "output_type": "execute_result"
    }
   ],
   "source": [
    "df2['CBO'].value_counts()"
   ]
  },
  {
   "cell_type": "code",
   "execution_count": 136,
   "metadata": {},
   "outputs": [
    {
     "data": {
      "image/png": "[encoded data removed]",
      "text/plain": [
       "<Figure size 640x480 with 1 Axes>"
      ]
     },
     "metadata": {},
     "output_type": "display_data"
    }
   ],
   "source": [
    "# rank gráfico dos 5 profissionais que mais sofreu acidentes\n",
    "plt.style.use('ggplot')\n",
    "plt.rcdefaults()\n",
    "fig, ax = plt.subplots()\n",
    "\n",
    "y_pos = np.arange(len(df2['CBO'].value_counts()[:5]))\n",
    "values = df2['CBO'].value_counts()[:5]\n",
    "claf = df2['CBO'].unique()[:5]\n",
    "\n",
    "ax.barh(y_pos, values, align='center', color='blue')\n",
    "ax.set_yticks(y_pos)\n",
    "ax.set_yticklabels(claf)\n",
    "ax.invert_yaxis()\n",
    "ax.set_xlabel('Nº de acidentes')\n",
    "ax.set_title(' 5 profissionais que mais sofreu acidentes')\n",
    "plt.show()"
   ]
  },
  {
   "cell_type": "markdown",
   "metadata": {},
   "source": [
    "#### Um dos 5 profissionais que mais sofreu acidentes foi:\n",
    "1. Auxiliar de enfermagem \n",
    "2. Técnico de enfermagem \n",
    "3. Técnico em manutenção de máquinas\n",
    "4. Soldador\n",
    "5. Açougueiro desossador"
   ]
  },
  {
   "cell_type": "markdown",
   "metadata": {},
   "source": [
    "### 6) Quais lesões são mais frequentes ?"
   ]
  },
  {
   "cell_type": "code",
   "execution_count": 127,
   "metadata": {},
   "outputs": [
    {
     "data": {
      "text/plain": [
       "Corte, Laceracao, Fe    18545\n",
       "Fratura                 12747\n",
       "Lesao Imediata, Nic     11130\n",
       "Contusao, Esmagament     9387\n",
       "Distensao, Torcao        6317\n",
       "Escoriacao, Abrasao      5225\n",
       "Luxacao                  5056\n",
       "Queimadura ou Escald     2574\n",
       "Lesoes Multiplas         2190\n",
       "Doenca, Nic              1672\n",
       "Lesao Imediata           1006\n",
       "Inflamacao de Articu      809\n",
       "Amputacao ou Enuclea      782\n",
       "Queimadura Quimica (      762\n",
       "Doenca Contagiosa ou      611\n",
       "Perda ou Diminuicao       563\n",
       "Envenenamento Sistem      310\n",
       "                          298\n",
       "Choque Eletrico e El      296\n",
       "Concussao Cerebral        278\n",
       "Dermatose (Erupcao,       267\n",
       "Outras Lesoes, Nic        222\n",
       "Hernia de Qualquer N       82\n",
       "Asfixia, Estrangulam       47\n",
       "Efeito de Radiacao (       31\n",
       "Intermacao, Insolaca       23\n",
       "Esforco Excessivo ao       21\n",
       "Pneumoconiose (Silic        8\n",
       "Congelamento, Geladu        5\n",
       "Name: Natureza da Lesão, dtype: int64"
      ]
     },
     "execution_count": 127,
     "metadata": {},
     "output_type": "execute_result"
    }
   ],
   "source": [
    "df2['Natureza da Lesão'].value_counts()"
   ]
  },
  {
   "cell_type": "code",
   "execution_count": 135,
   "metadata": {},
   "outputs": [
    {
     "data": {
      "image/png": "[encoded data removed]",
      "text/plain": [
       "<Figure size 640x480 with 1 Axes>"
      ]
     },
     "metadata": {},
     "output_type": "display_data"
    }
   ],
   "source": [
    "plt.style.use('ggplot')\n",
    "plt.rcdefaults()\n",
    "fig, ax = plt.subplots()\n",
    "\n",
    "y_pos = np.arange(len(df2['Natureza da Lesão'].value_counts()))\n",
    "values = df2['Natureza da Lesão'].value_counts()\n",
    "lesao = df2['Natureza da Lesão'].unique()\n",
    "\n",
    "ax.barh(y_pos, values, align='center', color='#00FFFF')\n",
    "ax.set_yticks(y_pos)\n",
    "ax.set_yticklabels(lesao)\n",
    "ax.invert_yaxis()\n",
    "ax.set_xlabel('Nº de natureza da lesão')\n",
    "ax.set_title('Natureza das lesões')\n",
    "\n",
    "plt.show()"
   ]
  },
  {
   "cell_type": "markdown",
   "metadata": {},
   "source": [
    "### 7) Onde estão os empregadores ?"
   ]
  },
  {
   "cell_type": "code",
   "execution_count": 138,
   "metadata": {},
   "outputs": [
    {
     "data": {
      "text/plain": [
       "São Paulo               29551\n",
       "Minas Gerais             8696\n",
       "Rio Grande do Sul        7003\n",
       "Paraná                   6850\n",
       "Santa Catarina           5358\n",
       "Rio de Janeiro           5060\n",
       "Goiás                    2325\n",
       "Bahia                    2003\n",
       "Mato Grosso              1946\n",
       "Espírito Santo           1899\n",
       "Pernambuco               1598\n",
       "Pará                     1363\n",
       "Mato Grosso do Sul       1341\n",
       "Ceará                    1237\n",
       "Distrito Federal         1036\n",
       "Amazonas                  821\n",
       "Rio Grande do Norte       551\n",
       "Alagoas                   478\n",
       "Rondônia                  474\n",
       "Maranhão                  460\n",
       "Paraíba                   331\n",
       "Sergipe                   304\n",
       "Piauí                     204\n",
       "Tocantins                 174\n",
       "Roraima                    76\n",
       "Acre                       64\n",
       "Amapá                      61\n",
       "Name: UF_empregador, dtype: int64"
      ]
     },
     "execution_count": 138,
     "metadata": {},
     "output_type": "execute_result"
    }
   ],
   "source": [
    "df2['UF_empregador'].value_counts()"
   ]
  },
  {
   "cell_type": "code",
   "execution_count": 141,
   "metadata": {},
   "outputs": [
    {
     "data": {
      "image/png": "[encoded data removed]",
      "text/plain": [
       "<Figure size 640x480 with 1 Axes>"
      ]
     },
     "metadata": {},
     "output_type": "display_data"
    }
   ],
   "source": [
    "plt.style.use('ggplot')\n",
    "plt.rcdefaults()\n",
    "fig, ax = plt.subplots()\n",
    "\n",
    "y_pos = np.arange(len(df2['UF_empregador'].value_counts()))\n",
    "values = df2['UF_empregador'].value_counts()\n",
    "ufs = df2['UF_empregador'].unique()\n",
    "\n",
    "ax.barh(y_pos, values, align='center', color='#98FB98')\n",
    "ax.set_yticks(y_pos)\n",
    "ax.set_yticklabels(ufs)\n",
    "ax.invert_yaxis()\n",
    "ax.set_xlabel('Nº')\n",
    "ax.set_title('Estados dos empregadores')\n",
    "\n",
    "plt.show()"
   ]
  },
  {
   "cell_type": "markdown",
   "metadata": {},
   "source": []
  }
 ],
 "metadata": {
  "kernelspec": {
   "display_name": "Python 3",
   "language": "python",
   "name": "python3"
  },
  "language_info": {
   "codemirror_mode": {
    "name": "ipython",
    "version": 3
   },
   "file_extension": ".py",
   "mimetype": "text/x-python",
   "name": "python",
   "nbconvert_exporter": "python",
   "pygments_lexer": "ipython3",
   "version": "3.8.3"
  }
 },
 "nbformat": 4,
 "nbformat_minor": 4
}
